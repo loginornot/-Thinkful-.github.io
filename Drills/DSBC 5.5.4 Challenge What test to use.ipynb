{
 "cells": [
  {
   "cell_type": "code",
   "execution_count": 1,
   "metadata": {},
   "outputs": [],
   "source": [
    "import numpy as np\n",
    "import pandas as pd\n",
    "import math\n",
    "import scipy\n",
    "import scipy.stats as stats\n",
    "import matplotlib.pyplot as plt\n",
    "import seaborn as sns\n",
    "%matplotlib inline"
   ]
  },
  {
   "cell_type": "code",
   "execution_count": 2,
   "metadata": {},
   "outputs": [],
   "source": [
    "df = pd.read_csv('https://raw.githubusercontent.com/Thinkful-Ed/data-201-resources/master/ESS_practice_data/ESSdata_Thinkful.csv')"
   ]
  },
  {
   "cell_type": "code",
   "execution_count": 3,
   "metadata": {
    "scrolled": true
   },
   "outputs": [
    {
     "data": {
      "text/html": [
       "<div>\n",
       "<style scoped>\n",
       "    .dataframe tbody tr th:only-of-type {\n",
       "        vertical-align: middle;\n",
       "    }\n",
       "\n",
       "    .dataframe tbody tr th {\n",
       "        vertical-align: top;\n",
       "    }\n",
       "\n",
       "    .dataframe thead th {\n",
       "        text-align: right;\n",
       "    }\n",
       "</style>\n",
       "<table border=\"1\" class=\"dataframe\">\n",
       "  <thead>\n",
       "    <tr style=\"text-align: right;\">\n",
       "      <th></th>\n",
       "      <th>cntry</th>\n",
       "      <th>idno</th>\n",
       "      <th>year</th>\n",
       "      <th>tvtot</th>\n",
       "      <th>ppltrst</th>\n",
       "      <th>pplfair</th>\n",
       "      <th>pplhlp</th>\n",
       "      <th>happy</th>\n",
       "      <th>sclmeet</th>\n",
       "      <th>sclact</th>\n",
       "      <th>gndr</th>\n",
       "      <th>agea</th>\n",
       "      <th>partner</th>\n",
       "    </tr>\n",
       "  </thead>\n",
       "  <tbody>\n",
       "    <tr>\n",
       "      <th>0</th>\n",
       "      <td>CH</td>\n",
       "      <td>5.0</td>\n",
       "      <td>6</td>\n",
       "      <td>3.0</td>\n",
       "      <td>3.0</td>\n",
       "      <td>10.0</td>\n",
       "      <td>5.0</td>\n",
       "      <td>8.0</td>\n",
       "      <td>5.0</td>\n",
       "      <td>4.0</td>\n",
       "      <td>2.0</td>\n",
       "      <td>60.0</td>\n",
       "      <td>1.0</td>\n",
       "    </tr>\n",
       "    <tr>\n",
       "      <th>1</th>\n",
       "      <td>CH</td>\n",
       "      <td>25.0</td>\n",
       "      <td>6</td>\n",
       "      <td>6.0</td>\n",
       "      <td>5.0</td>\n",
       "      <td>7.0</td>\n",
       "      <td>5.0</td>\n",
       "      <td>9.0</td>\n",
       "      <td>3.0</td>\n",
       "      <td>2.0</td>\n",
       "      <td>2.0</td>\n",
       "      <td>59.0</td>\n",
       "      <td>1.0</td>\n",
       "    </tr>\n",
       "    <tr>\n",
       "      <th>2</th>\n",
       "      <td>CH</td>\n",
       "      <td>26.0</td>\n",
       "      <td>6</td>\n",
       "      <td>1.0</td>\n",
       "      <td>8.0</td>\n",
       "      <td>8.0</td>\n",
       "      <td>8.0</td>\n",
       "      <td>7.0</td>\n",
       "      <td>6.0</td>\n",
       "      <td>3.0</td>\n",
       "      <td>1.0</td>\n",
       "      <td>24.0</td>\n",
       "      <td>2.0</td>\n",
       "    </tr>\n",
       "    <tr>\n",
       "      <th>3</th>\n",
       "      <td>CH</td>\n",
       "      <td>28.0</td>\n",
       "      <td>6</td>\n",
       "      <td>4.0</td>\n",
       "      <td>6.0</td>\n",
       "      <td>6.0</td>\n",
       "      <td>7.0</td>\n",
       "      <td>10.0</td>\n",
       "      <td>6.0</td>\n",
       "      <td>2.0</td>\n",
       "      <td>2.0</td>\n",
       "      <td>64.0</td>\n",
       "      <td>1.0</td>\n",
       "    </tr>\n",
       "    <tr>\n",
       "      <th>4</th>\n",
       "      <td>CH</td>\n",
       "      <td>29.0</td>\n",
       "      <td>6</td>\n",
       "      <td>5.0</td>\n",
       "      <td>6.0</td>\n",
       "      <td>7.0</td>\n",
       "      <td>5.0</td>\n",
       "      <td>8.0</td>\n",
       "      <td>7.0</td>\n",
       "      <td>2.0</td>\n",
       "      <td>2.0</td>\n",
       "      <td>55.0</td>\n",
       "      <td>1.0</td>\n",
       "    </tr>\n",
       "  </tbody>\n",
       "</table>\n",
       "</div>"
      ],
      "text/plain": [
       "  cntry  idno  year  tvtot  ppltrst  pplfair  pplhlp  happy  sclmeet  sclact  \\\n",
       "0    CH   5.0     6    3.0      3.0     10.0     5.0    8.0      5.0     4.0   \n",
       "1    CH  25.0     6    6.0      5.0      7.0     5.0    9.0      3.0     2.0   \n",
       "2    CH  26.0     6    1.0      8.0      8.0     8.0    7.0      6.0     3.0   \n",
       "3    CH  28.0     6    4.0      6.0      6.0     7.0   10.0      6.0     2.0   \n",
       "4    CH  29.0     6    5.0      6.0      7.0     5.0    8.0      7.0     2.0   \n",
       "\n",
       "   gndr  agea  partner  \n",
       "0   2.0  60.0      1.0  \n",
       "1   2.0  59.0      1.0  \n",
       "2   1.0  24.0      2.0  \n",
       "3   2.0  64.0      1.0  \n",
       "4   2.0  55.0      1.0  "
      ]
     },
     "execution_count": 3,
     "metadata": {},
     "output_type": "execute_result"
    }
   ],
   "source": [
    "df.head()"
   ]
  },
  {
   "cell_type": "code",
   "execution_count": 4,
   "metadata": {},
   "outputs": [
    {
     "data": {
      "text/html": [
       "<div>\n",
       "<style scoped>\n",
       "    .dataframe tbody tr th:only-of-type {\n",
       "        vertical-align: middle;\n",
       "    }\n",
       "\n",
       "    .dataframe tbody tr th {\n",
       "        vertical-align: top;\n",
       "    }\n",
       "\n",
       "    .dataframe thead th {\n",
       "        text-align: right;\n",
       "    }\n",
       "</style>\n",
       "<table border=\"1\" class=\"dataframe\">\n",
       "  <thead>\n",
       "    <tr style=\"text-align: right;\">\n",
       "      <th></th>\n",
       "      <th>variable</th>\n",
       "      <th>missing values</th>\n",
       "      <th>filling factor (%)</th>\n",
       "    </tr>\n",
       "  </thead>\n",
       "  <tbody>\n",
       "    <tr>\n",
       "      <th>0</th>\n",
       "      <td>agea</td>\n",
       "      <td>239</td>\n",
       "      <td>97.218990</td>\n",
       "    </tr>\n",
       "    <tr>\n",
       "      <th>1</th>\n",
       "      <td>sclact</td>\n",
       "      <td>94</td>\n",
       "      <td>98.906214</td>\n",
       "    </tr>\n",
       "    <tr>\n",
       "      <th>2</th>\n",
       "      <td>pplfair</td>\n",
       "      <td>39</td>\n",
       "      <td>99.546195</td>\n",
       "    </tr>\n",
       "    <tr>\n",
       "      <th>3</th>\n",
       "      <td>happy</td>\n",
       "      <td>31</td>\n",
       "      <td>99.639283</td>\n",
       "    </tr>\n",
       "    <tr>\n",
       "      <th>4</th>\n",
       "      <td>pplhlp</td>\n",
       "      <td>25</td>\n",
       "      <td>99.709099</td>\n",
       "    </tr>\n",
       "    <tr>\n",
       "      <th>5</th>\n",
       "      <td>partner</td>\n",
       "      <td>17</td>\n",
       "      <td>99.802188</td>\n",
       "    </tr>\n",
       "    <tr>\n",
       "      <th>6</th>\n",
       "      <td>sclmeet</td>\n",
       "      <td>15</td>\n",
       "      <td>99.825460</td>\n",
       "    </tr>\n",
       "    <tr>\n",
       "      <th>7</th>\n",
       "      <td>ppltrst</td>\n",
       "      <td>14</td>\n",
       "      <td>99.837096</td>\n",
       "    </tr>\n",
       "    <tr>\n",
       "      <th>8</th>\n",
       "      <td>gndr</td>\n",
       "      <td>10</td>\n",
       "      <td>99.883640</td>\n",
       "    </tr>\n",
       "    <tr>\n",
       "      <th>9</th>\n",
       "      <td>tvtot</td>\n",
       "      <td>8</td>\n",
       "      <td>99.906912</td>\n",
       "    </tr>\n",
       "    <tr>\n",
       "      <th>10</th>\n",
       "      <td>cntry</td>\n",
       "      <td>0</td>\n",
       "      <td>100.000000</td>\n",
       "    </tr>\n",
       "    <tr>\n",
       "      <th>11</th>\n",
       "      <td>idno</td>\n",
       "      <td>0</td>\n",
       "      <td>100.000000</td>\n",
       "    </tr>\n",
       "    <tr>\n",
       "      <th>12</th>\n",
       "      <td>year</td>\n",
       "      <td>0</td>\n",
       "      <td>100.000000</td>\n",
       "    </tr>\n",
       "  </tbody>\n",
       "</table>\n",
       "</div>"
      ],
      "text/plain": [
       "   variable  missing values  filling factor (%)\n",
       "0      agea             239           97.218990\n",
       "1    sclact              94           98.906214\n",
       "2   pplfair              39           99.546195\n",
       "3     happy              31           99.639283\n",
       "4    pplhlp              25           99.709099\n",
       "5   partner              17           99.802188\n",
       "6   sclmeet              15           99.825460\n",
       "7   ppltrst              14           99.837096\n",
       "8      gndr              10           99.883640\n",
       "9     tvtot               8           99.906912\n",
       "10    cntry               0          100.000000\n",
       "11     idno               0          100.000000\n",
       "12     year               0          100.000000"
      ]
     },
     "execution_count": 4,
     "metadata": {},
     "output_type": "execute_result"
    }
   ],
   "source": [
    "missing_df = df.isnull().sum(axis=0).reset_index()\n",
    "missing_df.columns = ['variable', 'missing values']\n",
    "missing_df['filling factor (%)']=(df.shape[0]-missing_df['missing values'])/df.shape[0]*100\n",
    "missing_df.sort_values('filling factor (%)').reset_index(drop = True)"
   ]
  },
  {
   "cell_type": "markdown",
   "metadata": {},
   "source": [
    "#### It's safe to drop all nan values"
   ]
  },
  {
   "cell_type": "code",
   "execution_count": 5,
   "metadata": {},
   "outputs": [],
   "source": [
    "df = df.dropna()"
   ]
  },
  {
   "cell_type": "code",
   "execution_count": 6,
   "metadata": {},
   "outputs": [
    {
     "name": "stdout",
     "output_type": "stream",
     "text": [
      "(8147, 13)\n"
     ]
    }
   ],
   "source": [
    "print(df.shape)"
   ]
  },
  {
   "cell_type": "markdown",
   "metadata": {},
   "source": [
    "#### Separate the dataframe into two based on the years, and get the mean on the outcome of our interest"
   ]
  },
  {
   "cell_type": "code",
   "execution_count": 7,
   "metadata": {
    "scrolled": true
   },
   "outputs": [
    {
     "name": "stdout",
     "output_type": "stream",
     "text": [
      "Year 2012\n",
      " cntry\n",
      "CH    5.685792\n",
      "CZ    4.402662\n",
      "DE    5.076923\n",
      "ES    5.127807\n",
      "NO    6.648305\n",
      "SE    6.043073\n",
      "Name: ppltrst, dtype: float64\n",
      "Year 2014\n",
      " cntry\n",
      "CH    5.764468\n",
      "CZ    4.356436\n",
      "DE    5.357143\n",
      "ES    4.940035\n",
      "NO    6.599719\n",
      "SE    6.239908\n",
      "Name: ppltrst, dtype: float64\n"
     ]
    }
   ],
   "source": [
    "df12 = df[df['year'] == 6]\n",
    "df14 = df[df['year'] == 7]\n",
    "print('Year 2012\\n',df12.groupby(['cntry'])['ppltrst'].mean())\n",
    "print('Year 2014\\n',df14.groupby(['cntry'])['ppltrst'].mean())"
   ]
  },
  {
   "cell_type": "markdown",
   "metadata": {},
   "source": [
    "#### Plot the data to see the distribution"
   ]
  },
  {
   "cell_type": "code",
   "execution_count": 8,
   "metadata": {},
   "outputs": [
    {
     "data": {
      "image/png": "[encoded data removed]",
      "text/plain": [
       "<Figure size 1296x432 with 12 Axes>"
      ]
     },
     "metadata": {
      "needs_background": "light"
     },
     "output_type": "display_data"
    }
   ],
   "source": [
    "g = sns.FacetGrid(df, col=\"cntry\",  row=\"year\")\n",
    "g = g.map(plt.hist, \"ppltrst\")"
   ]
  },
  {
   "cell_type": "markdown",
   "metadata": {},
   "source": [
    "#### It's pretty similar between each year so I think maybe a QQ plot will do the job"
   ]
  },
  {
   "cell_type": "code",
   "execution_count": 9,
   "metadata": {},
   "outputs": [],
   "source": [
    "#Generate normal distributed data with the same length\n",
    "norm = np.random.normal(0, 1, 8147)\n",
    "norm = sorted(norm)\n",
    "trust = sorted(list(df['ppltrst']))"
   ]
  },
  {
   "cell_type": "code",
   "execution_count": 10,
   "metadata": {},
   "outputs": [],
   "source": [
    "# Add them to the dataframe for plotting\n",
    "df['norm'] = norm\n",
    "df['ppltrst2'] = trust"
   ]
  },
  {
   "cell_type": "code",
   "execution_count": 11,
   "metadata": {},
   "outputs": [
    {
     "data": {
      "image/png": "[encoded data removed]",
      "text/plain": [
       "<Figure size 1296x432 with 12 Axes>"
      ]
     },
     "metadata": {
      "needs_background": "light"
     },
     "output_type": "display_data"
    }
   ],
   "source": [
    "g = sns.FacetGrid(df, col=\"cntry\",  row=\"year\")\n",
    "g = g.map(plt.scatter, 'ppltrst2','norm')"
   ]
  },
  {
   "cell_type": "markdown",
   "metadata": {},
   "source": [
    "#### Since our interest of outcome is more like categorical data, so the QQ plot doesn't achieve what we want"
   ]
  },
  {
   "cell_type": "code",
   "execution_count": 12,
   "metadata": {},
   "outputs": [
    {
     "data": {
      "text/plain": [
       "array(['CH', 'CZ', 'DE', 'ES', 'NO', 'SE'], dtype=object)"
      ]
     },
     "execution_count": 12,
     "metadata": {},
     "output_type": "execute_result"
    }
   ],
   "source": [
    "df['cntry'].unique()"
   ]
  },
  {
   "cell_type": "code",
   "execution_count": 13,
   "metadata": {},
   "outputs": [
    {
     "data": {
      "text/plain": [
       "KruskalResult(statistic=437.53206188915857, pvalue=2.4011978577142313e-92)"
      ]
     },
     "execution_count": 13,
     "metadata": {},
     "output_type": "execute_result"
    }
   ],
   "source": [
    "# So let's run the Non-parametric test on each set of data.\n",
    "stats.kruskal(\n",
    "    df12[df12['cntry'] == 'CZ']['ppltrst'],\n",
    "    df12[df12['cntry'] == 'CH']['ppltrst'],\n",
    "    df12[df12['cntry'] == 'DE']['ppltrst'],\n",
    "    df12[df12['cntry'] == 'ES']['ppltrst'],\n",
    "    df12[df12['cntry'] == 'NO']['ppltrst'],\n",
    "    df12[df12['cntry'] == 'SE']['ppltrst'])"
   ]
  },
  {
   "cell_type": "code",
   "execution_count": 14,
   "metadata": {},
   "outputs": [
    {
     "data": {
      "text/plain": [
       "KruskalResult(statistic=528.6431154445382, pvalue=5.2315568811114275e-112)"
      ]
     },
     "execution_count": 14,
     "metadata": {},
     "output_type": "execute_result"
    }
   ],
   "source": [
    "stats.kruskal(\n",
    "    df14[df14['cntry'] == 'CZ']['ppltrst'],\n",
    "    df14[df14['cntry'] == 'CH']['ppltrst'],\n",
    "    df14[df14['cntry'] == 'DE']['ppltrst'],\n",
    "    df14[df14['cntry'] == 'ES']['ppltrst'],\n",
    "    df14[df14['cntry'] == 'NO']['ppltrst'],\n",
    "    df14[df14['cntry'] == 'SE']['ppltrst'])"
   ]
  },
  {
   "cell_type": "markdown",
   "metadata": {},
   "source": [
    "### 1. Did people become less trusting from 2012 to 2014? Compute results for each country in the sample."
   ]
  },
  {
   "cell_type": "code",
   "execution_count": 15,
   "metadata": {},
   "outputs": [],
   "source": [
    "trstmean12 = pd.DataFrame(df12.groupby(['cntry'])['ppltrst'].mean())\n",
    "trstmean14 = pd.DataFrame(df14.groupby(['cntry'])['ppltrst'].mean())"
   ]
  },
  {
   "cell_type": "code",
   "execution_count": 16,
   "metadata": {},
   "outputs": [
    {
     "data": {
      "text/html": [
       "<div>\n",
       "<style scoped>\n",
       "    .dataframe tbody tr th:only-of-type {\n",
       "        vertical-align: middle;\n",
       "    }\n",
       "\n",
       "    .dataframe tbody tr th {\n",
       "        vertical-align: top;\n",
       "    }\n",
       "\n",
       "    .dataframe thead th {\n",
       "        text-align: right;\n",
       "    }\n",
       "</style>\n",
       "<table border=\"1\" class=\"dataframe\">\n",
       "  <thead>\n",
       "    <tr style=\"text-align: right;\">\n",
       "      <th></th>\n",
       "      <th>ppltrst</th>\n",
       "      <th>ppltrst14</th>\n",
       "      <th>meanDiff</th>\n",
       "    </tr>\n",
       "    <tr>\n",
       "      <th>cntry</th>\n",
       "      <th></th>\n",
       "      <th></th>\n",
       "      <th></th>\n",
       "    </tr>\n",
       "  </thead>\n",
       "  <tbody>\n",
       "    <tr>\n",
       "      <th>CH</th>\n",
       "      <td>5.685792</td>\n",
       "      <td>5.764468</td>\n",
       "      <td>0.078676</td>\n",
       "    </tr>\n",
       "    <tr>\n",
       "      <th>CZ</th>\n",
       "      <td>4.402662</td>\n",
       "      <td>4.356436</td>\n",
       "      <td>-0.046227</td>\n",
       "    </tr>\n",
       "    <tr>\n",
       "      <th>DE</th>\n",
       "      <td>5.076923</td>\n",
       "      <td>5.357143</td>\n",
       "      <td>0.280220</td>\n",
       "    </tr>\n",
       "    <tr>\n",
       "      <th>ES</th>\n",
       "      <td>5.127807</td>\n",
       "      <td>4.940035</td>\n",
       "      <td>-0.187771</td>\n",
       "    </tr>\n",
       "    <tr>\n",
       "      <th>NO</th>\n",
       "      <td>6.648305</td>\n",
       "      <td>6.599719</td>\n",
       "      <td>-0.048586</td>\n",
       "    </tr>\n",
       "    <tr>\n",
       "      <th>SE</th>\n",
       "      <td>6.043073</td>\n",
       "      <td>6.239908</td>\n",
       "      <td>0.196834</td>\n",
       "    </tr>\n",
       "  </tbody>\n",
       "</table>\n",
       "</div>"
      ],
      "text/plain": [
       "        ppltrst  ppltrst14  meanDiff\n",
       "cntry                               \n",
       "CH     5.685792   5.764468  0.078676\n",
       "CZ     4.402662   4.356436 -0.046227\n",
       "DE     5.076923   5.357143  0.280220\n",
       "ES     5.127807   4.940035 -0.187771\n",
       "NO     6.648305   6.599719 -0.048586\n",
       "SE     6.043073   6.239908  0.196834"
      ]
     },
     "execution_count": 16,
     "metadata": {},
     "output_type": "execute_result"
    }
   ],
   "source": [
    "trstmean12['ppltrst14'] = trstmean14['ppltrst']\n",
    "trstmean12['meanDiff'] = trstmean12['ppltrst14'] - trstmean12['ppltrst']\n",
    "trstmean12"
   ]
  },
  {
   "cell_type": "markdown",
   "metadata": {},
   "source": [
    "### 2. Did people become happier from 2012 to 2014? Compute results for each country in the sample."
   ]
  },
  {
   "cell_type": "code",
   "execution_count": 17,
   "metadata": {},
   "outputs": [
    {
     "data": {
      "text/html": [
       "<div>\n",
       "<style scoped>\n",
       "    .dataframe tbody tr th:only-of-type {\n",
       "        vertical-align: middle;\n",
       "    }\n",
       "\n",
       "    .dataframe tbody tr th {\n",
       "        vertical-align: top;\n",
       "    }\n",
       "\n",
       "    .dataframe thead th {\n",
       "        text-align: right;\n",
       "    }\n",
       "</style>\n",
       "<table border=\"1\" class=\"dataframe\">\n",
       "  <thead>\n",
       "    <tr style=\"text-align: right;\">\n",
       "      <th></th>\n",
       "      <th>happy</th>\n",
       "      <th>happy14</th>\n",
       "      <th>meanDiff</th>\n",
       "    </tr>\n",
       "    <tr>\n",
       "      <th>cntry</th>\n",
       "      <th></th>\n",
       "      <th></th>\n",
       "      <th></th>\n",
       "    </tr>\n",
       "  </thead>\n",
       "  <tbody>\n",
       "    <tr>\n",
       "      <th>CH</th>\n",
       "      <td>8.083333</td>\n",
       "      <td>8.142665</td>\n",
       "      <td>0.059332</td>\n",
       "    </tr>\n",
       "    <tr>\n",
       "      <th>CZ</th>\n",
       "      <td>6.790349</td>\n",
       "      <td>6.922442</td>\n",
       "      <td>0.132093</td>\n",
       "    </tr>\n",
       "    <tr>\n",
       "      <th>DE</th>\n",
       "      <td>7.307692</td>\n",
       "      <td>7.857143</td>\n",
       "      <td>0.549451</td>\n",
       "    </tr>\n",
       "    <tr>\n",
       "      <th>ES</th>\n",
       "      <td>7.557858</td>\n",
       "      <td>7.450617</td>\n",
       "      <td>-0.107241</td>\n",
       "    </tr>\n",
       "    <tr>\n",
       "      <th>NO</th>\n",
       "      <td>8.252825</td>\n",
       "      <td>7.919944</td>\n",
       "      <td>-0.332881</td>\n",
       "    </tr>\n",
       "    <tr>\n",
       "      <th>SE</th>\n",
       "      <td>7.901048</td>\n",
       "      <td>7.938870</td>\n",
       "      <td>0.037822</td>\n",
       "    </tr>\n",
       "  </tbody>\n",
       "</table>\n",
       "</div>"
      ],
      "text/plain": [
       "          happy   happy14  meanDiff\n",
       "cntry                              \n",
       "CH     8.083333  8.142665  0.059332\n",
       "CZ     6.790349  6.922442  0.132093\n",
       "DE     7.307692  7.857143  0.549451\n",
       "ES     7.557858  7.450617 -0.107241\n",
       "NO     8.252825  7.919944 -0.332881\n",
       "SE     7.901048  7.938870  0.037822"
      ]
     },
     "execution_count": 17,
     "metadata": {},
     "output_type": "execute_result"
    }
   ],
   "source": [
    "happymean12 = pd.DataFrame(df12.groupby(['cntry'])['happy'].mean())\n",
    "happymean14 = pd.DataFrame(df14.groupby(['cntry'])['happy'].mean())\n",
    "happymean12['happy14'] = happymean14['happy']\n",
    "happymean12['meanDiff'] = happymean12['happy14'] - happymean12['happy']\n",
    "happymean12"
   ]
  },
  {
   "cell_type": "markdown",
   "metadata": {},
   "source": [
    "### 3. Who reported watching more TV in 2012, men or women?"
   ]
  },
  {
   "cell_type": "code",
   "execution_count": 19,
   "metadata": {},
   "outputs": [
    {
     "name": "stdout",
     "output_type": "stream",
     "text": [
      "3.8592303945445687\n",
      "3.9053518334985133\n",
      "-0.046121438953944605\n"
     ]
    }
   ],
   "source": [
    "mentv = df12[df12['gndr'] == 1]['tvtot'].mean()\n",
    "womentv = df12[df12['gndr'] == 2]['tvtot'].mean()\n",
    "print(mentv)\n",
    "print(womentv)\n",
    "print(mentv - womentv)"
   ]
  },
  {
   "cell_type": "markdown",
   "metadata": {},
   "source": [
    "### 4. Who was more likely to believe people were fair in 2012, people living with a partner or people living alone?"
   ]
  },
  {
   "cell_type": "code",
   "execution_count": 20,
   "metadata": {},
   "outputs": [
    {
     "name": "stdout",
     "output_type": "stream",
     "text": [
      "6.0743509047993705\n",
      "5.86592544146501\n",
      "0.2084254633343603\n"
     ]
    }
   ],
   "source": [
    "prtnrfair = df12[df12['partner'] == 1]['pplfair'].mean()\n",
    "alnfair = df12[df12['partner'] == 2]['pplfair'].mean()\n",
    "print(prtnrfair)\n",
    "print(alnfair)\n",
    "print(prtnrfair - alnfair)"
   ]
  },
  {
   "cell_type": "markdown",
   "metadata": {},
   "source": [
    "### 5. Pick three or four of the countries in the sample and compare how often people met socially in 2014. Are there differences, and if so, which countries stand out?"
   ]
  },
  {
   "cell_type": "code",
   "execution_count": 25,
   "metadata": {},
   "outputs": [
    {
     "name": "stdout",
     "output_type": "stream",
     "text": [
      "Czech Republic: 4.4950495049504955 \n",
      "Switzerland: 5.174966352624495 \n",
      "Spain: 5.263668430335097 \n",
      "Norway: 5.310393258426966 \n",
      "\n"
     ]
    }
   ],
   "source": [
    "CZmeet = df14[df14['cntry'] == 'CZ']['sclmeet'].mean()\n",
    "CHmeet = df14[df14['cntry'] == 'CH']['sclmeet'].mean()\n",
    "ESmeet = df14[df14['cntry'] == 'ES']['sclmeet'].mean()\n",
    "NOmeet = df14[df14['cntry'] == 'NO']['sclmeet'].mean()\n",
    "print('Czech Republic:',CZmeet,'\\n''Switzerland:',CHmeet,'\\n''Spain:',ESmeet,'\\n''Norway:',NOmeet,'\\n')"
   ]
  },
  {
   "cell_type": "markdown",
   "metadata": {},
   "source": [
    "### 6. Pick three or four of the countries in the sample and compare how often people took part in social activities, relative to their age, in 2014. Are there differences, and if so, which countries stand out?"
   ]
  },
  {
   "cell_type": "code",
   "execution_count": 30,
   "metadata": {},
   "outputs": [
    {
     "name": "stdout",
     "output_type": "stream",
     "text": [
      "Czech Republic: 2.860955056179775   Age mean: 45.115511551155116    Ratio: 15.769388426324223 \n",
      "Switzerland: 2.784656796769852      Age mean: 46.10228802153432     Ratio: 16.55582406959884 \n",
      "Spain: 2.631393298059965            Age mean: 47.64021164021164     Ratio: 18.10455764075067 \n",
      "Norway: 2.860955056179775           Age mean: 45.115511551155116    Ratio: 16.28178694158076 \n",
      "\n"
     ]
    }
   ],
   "source": [
    "CZsclact,CZage = df14[df14['cntry'] == 'NO']['sclact'].mean(),df14[df14['cntry'] == 'CZ']['agea'].mean()\n",
    "CHsclact,CHage = df14[df14['cntry'] == 'CH']['sclact'].mean(),df14[df14['cntry'] == 'CH']['agea'].mean()\n",
    "ESsclact,ESage = df14[df14['cntry'] == 'ES']['sclact'].mean(),df14[df14['cntry'] == 'ES']['agea'].mean()\n",
    "NOsclact,NOage = df14[df14['cntry'] == 'NO']['sclact'].mean(),df14[df14['cntry'] == 'NO']['agea'].mean()\n",
    "print('Czech Republic:',CZsclact,'  Age mean:',CZage,'   Ratio:',CZage/CZsclact,'\\n'\n",
    "      'Switzerland:',CHsclact,'     Age mean:',CHage,'    Ratio:',CHage/CHsclact,'\\n'\n",
    "      'Spain:',ESsclact,'           Age mean:',ESage,'    Ratio:',ESage/ESsclact,'\\n'\n",
    "      'Norway:',NOsclact,'          Age mean:',CZage,'   Ratio:', NOage/NOsclact,'\\n')"
   ]
  },
  {
   "cell_type": "code",
   "execution_count": null,
   "metadata": {},
   "outputs": [],
   "source": []
  }
 ],
 "metadata": {
  "kernelspec": {
   "display_name": "Python 3",
   "language": "python",
   "name": "python3"
  },
  "language_info": {
   "codemirror_mode": {
    "name": "ipython",
    "version": 3
   },
   "file_extension": ".py",
   "mimetype": "text/x-python",
   "name": "python",
   "nbconvert_exporter": "python",
   "pygments_lexer": "ipython3",
   "version": "3.7.0"
  }
 },
 "nbformat": 4,
 "nbformat_minor": 2
}
