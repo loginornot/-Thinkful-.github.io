{
 "cells": [
  {
   "cell_type": "code",
   "execution_count": 2,
   "metadata": {},
   "outputs": [],
   "source": [
    "#First of all we will have a dataframe like this\n",
    "df = pd.DataFrame()\n",
    "df.columns = ['groceries', 'dining out', 'utilities', 'entertainment', 'Pay On Time']\n",
    "\n",
    "#Each row will represent the subtotal of all purchases of that month under each catagory\n",
    "\n",
    "#fit this data into KNN classifier.\n",
    "\n",
    "#We don't need to normalize our data because they are all in dollars\n",
    "#However, I think the weighting is necessary here because it's impossible for everyone to make same\n",
    "#amount of transactions among all catagories, so the weighting by distance may give us more accurate \n",
    "#result. We may even can predict based on personal purchasing habbit, such as the person who make more\n",
    "#'dinging out' or 'entertainment' purchases may pay on time, etc.\n"
   ]
  },
  {
   "cell_type": "code",
   "execution_count": null,
   "metadata": {},
   "outputs": [],
   "source": []
  }
 ],
 "metadata": {
  "kernelspec": {
   "display_name": "Python 3",
   "language": "python",
   "name": "python3"
  },
  "language_info": {
   "codemirror_mode": {
    "name": "ipython",
    "version": 3
   },
   "file_extension": ".py",
   "mimetype": "text/x-python",
   "name": "python",
   "nbconvert_exporter": "python",
   "pygments_lexer": "ipython3",
   "version": "3.7.0"
  }
 },
 "nbformat": 4,
 "nbformat_minor": 2
}
