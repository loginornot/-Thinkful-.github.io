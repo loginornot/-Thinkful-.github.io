{
 "cells": [
  {
   "cell_type": "code",
   "execution_count": 2,
   "metadata": {},
   "outputs": [],
   "source": [
    "class Node(object):\n",
    "    def __init__(self, id_):\n",
    "        self.id = id_\n",
    "        self.children = []\n",
    "    \n",
    "    def add_child(self, node):\n",
    "        self.children.append(node) \n",
    "    \n",
    "    def get_children(self):\n",
    "        return self.children       "
   ]
  },
  {
   "cell_type": "code",
   "execution_count": 3,
   "metadata": {},
   "outputs": [],
   "source": [
    "def get_breadth_first_nodes(root):\n",
    "    nodes = []\n",
    "    stack = [root]\n",
    "    while stack:\n",
    "        cur_node = stack[0]\n",
    "        stack = stack[1:]\n",
    "        nodes.append(cur_node)\n",
    "        for child in cur_node.get_children():\n",
    "            stack.append(child)\n",
    "    return nodes"
   ]
  },
  {
   "cell_type": "code",
   "execution_count": 4,
   "metadata": {},
   "outputs": [],
   "source": [
    "def make_test_tree():\n",
    "    a0 = Node('A')\n",
    "    b0 = Node('B')      \n",
    "    b1 = Node('C')      \n",
    "    c0 = Node(\"D\")      \n",
    "    c1 = Node(\"E\")\n",
    "    c2 = Node(\"F\")  \n",
    "    c3 = Node(\"G\")  \n",
    "    d0 = Node(\"H\")\n",
    "    d1 = Node(\"I\")   \n",
    "    d2 = Node(\"J\")   \n",
    "    d3 = Node(\"K\")   \n",
    "    d4 = Node(\"L\")   \n",
    "    d5 = Node(\"M\")   \n",
    "    d6 = Node(\"N\")   \n",
    "    d7 = Node(\"O\")\n",
    "    \n",
    "    a0.add_child(b0) \n",
    "    a0.add_child(b1) \n",
    "    \n",
    "    b0.add_child(c0) \n",
    "    b0.add_child(c1) \n",
    "    b1.add_child(c2) \n",
    "    b1.add_child(c3)\n",
    "    \n",
    "    c0.add_child(d0)\n",
    "    c0.add_child(d1)\n",
    "    c1.add_child(d2)\n",
    "    c1.add_child(d3)\n",
    "    c2.add_child(d4)\n",
    "    c2.add_child(d5)\n",
    "    c3.add_child(d6)\n",
    "    c3.add_child(d7)\n",
    "    \n",
    "    return a0                  \n",
    "\n",
    "def test_breadth_first_nodes():\n",
    "    root = make_test_tree()\n",
    "    node_list = get_breadth_first_nodes(root)\n",
    "    for node in node_list:\n",
    "        println(str(node))"
   ]
  },
  {
   "cell_type": "code",
   "execution_count": 6,
   "metadata": {},
   "outputs": [
    {
     "name": "stdout",
     "output_type": "stream",
     "text": [
      "<__main__.Node object at 0x00000261CD897438>\n",
      "<__main__.Node object at 0x00000261CD897198>\n",
      "<__main__.Node object at 0x00000261CD8971D0>\n",
      "<__main__.Node object at 0x00000261CD897208>\n",
      "<__main__.Node object at 0x00000261CD897278>\n",
      "<__main__.Node object at 0x00000261CD897470>\n",
      "<__main__.Node object at 0x00000261CD897550>\n",
      "<__main__.Node object at 0x00000261CD8975C0>\n",
      "<__main__.Node object at 0x00000261CD897518>\n",
      "<__main__.Node object at 0x00000261CD897630>\n",
      "<__main__.Node object at 0x00000261CD8976A0>\n",
      "<__main__.Node object at 0x00000261CD897710>\n",
      "<__main__.Node object at 0x00000261CD8976D8>\n",
      "<__main__.Node object at 0x00000261CD897668>\n",
      "<__main__.Node object at 0x00000261CD897748>\n"
     ]
    }
   ],
   "source": [
    "test_breadth_first_nodes()"
   ]
  },
  {
   "cell_type": "code",
   "execution_count": null,
   "metadata": {},
   "outputs": [],
   "source": []
  }
 ],
 "metadata": {
  "kernelspec": {
   "display_name": "Python 3",
   "language": "python",
   "name": "python3"
  },
  "language_info": {
   "codemirror_mode": {
    "name": "ipython",
    "version": 3
   },
   "file_extension": ".py",
   "mimetype": "text/x-python",
   "name": "python",
   "nbconvert_exporter": "python",
   "pygments_lexer": "ipython3",
   "version": "3.7.0"
  }
 },
 "nbformat": 4,
 "nbformat_minor": 2
}
